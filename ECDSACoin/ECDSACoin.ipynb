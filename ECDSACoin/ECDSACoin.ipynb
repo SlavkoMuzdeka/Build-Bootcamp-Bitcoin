{
 "cells": [
  {
   "cell_type": "markdown",
   "metadata": {},
   "source": [
    "[slides](https://docs.google.com/presentation/d/19K9nVjuSOCrZGM6lmFeEEarTm2xZwDSiZEIzf-Ywr5o/edit?usp=sharing)\n",
    "\n",
    "[python-ecdsa docs](https://github.com/warner/python-ecdsa)"
   ]
  },
  {
   "cell_type": "markdown",
   "metadata": {},
   "source": [
    "# Signing our First Message with ECDSA"
   ]
  },
  {
   "cell_type": "code",
   "execution_count": 3,
   "metadata": {},
   "outputs": [],
   "source": [
    "from ecdsa import SigningKey, SECP256k1\n",
    "\n",
    "private_key = SigningKey.generate(curve=SECP256k1)\n",
    "public_key = private_key.get_verifying_key()\n",
    "\n",
    "message = b\"I need ice cream\"\n",
    "signature = private_key.sign(message)"
   ]
  },
  {
   "cell_type": "code",
   "execution_count": 2,
   "metadata": {},
   "outputs": [
    {
     "data": {
      "text/plain": [
       "True"
      ]
     },
     "execution_count": 2,
     "metadata": {},
     "output_type": "execute_result"
    }
   ],
   "source": [
    "public_key.verify(signature, message)"
   ]
  },
  {
   "cell_type": "markdown",
   "metadata": {},
   "source": [
    "# Defining ECDSACoin\n",
    "\n",
    "* A coin is just a list of transfers, just like with PNGCoin. \n",
    "    * Where transfers were photographs of signatures in PNGCoin, they are ECDSA digital signatures in ECDSACoin\n",
    "* The `public_key` in the last transfer is who owns the coin\n",
    "* To spend the coin append a new transfer. Use the public key of the person you are sending to, and sign it using your private key."
   ]
  },
  {
   "cell_type": "code",
   "execution_count": 4,
   "metadata": {},
   "outputs": [],
   "source": [
    "class Transfer:\n",
    "    def __init__(self, signature, public_key):\n",
    "        self.signature = signature\n",
    "        self.public_key = public_key\n",
    "\n",
    "class ECDSACoin:\n",
    "    def __init__(self, transfers):\n",
    "        self.transfers = transfers"
   ]
  },
  {
   "cell_type": "code",
   "execution_count": 5,
   "metadata": {},
   "outputs": [],
   "source": [
    "# The usual suspects ... \n",
    "# SECP256k1 is a detail about the \"magical multiplication\" used under the covers\n",
    "\n",
    "bank_private_key = SigningKey.generate(curve=SECP256k1)\n",
    "bob_private_key = SigningKey.generate(curve=SECP256k1)\n",
    "alice_private_key = SigningKey.generate(curve=SECP256k1)\n",
    "\n",
    "bank_public_key = bank_private_key.get_verifying_key()\n",
    "bob_public_key = bob_private_key.get_verifying_key()\n",
    "alice_public_key = alice_private_key.get_verifying_key()"
   ]
  },
  {
   "cell_type": "code",
   "execution_count": 14,
   "metadata": {},
   "outputs": [],
   "source": [
    "from utils import serialize\n",
    "\n",
    "def issue(public_key):\n",
    "    # Create a message specifying who the coin is being issued to\n",
    "    message = serialize(public_key)\n",
    "    \n",
    "    # Create the first transfer, signing with the banks private key\n",
    "    signature = bank_private_key.sign(message)\n",
    "    transfer = Transfer(\n",
    "        signature=signature,\n",
    "        public_key=public_key,\n",
    "    )\n",
    "    \n",
    "    # Create and return the coin with just the issuing transfer\n",
    "    coin = ECDSACoin(transfers=[transfer])\n",
    "    return coin"
   ]
  },
  {
   "cell_type": "markdown",
   "metadata": {},
   "source": [
    "# Validating the First Transfer"
   ]
  },
  {
   "cell_type": "code",
   "execution_count": 19,
   "metadata": {},
   "outputs": [],
   "source": [
    "def validate(coin):\n",
    "    transfer = coin.transfers[0]\n",
    "    message = serialize(transfer.public_key)\n",
    "    assert bank_public_key.verify(transfer.signature, message)"
   ]
  },
  {
   "cell_type": "code",
   "execution_count": 20,
   "metadata": {},
   "outputs": [],
   "source": [
    "# give alice a ECDSACoin\n",
    "alice_coin = issue(alice_public_key)\n",
    "\n",
    "validate(alice_coin)"
   ]
  },
  {
   "cell_type": "code",
   "execution_count": 27,
   "metadata": {},
   "outputs": [],
   "source": [
    "# Example where the signature is done using the wrong private key\n",
    "transfer = Transfer(\n",
    "    signature=bob_private_key.sign(serialize(bob_public_key)),\n",
    "    public_key=bob_public_key\n",
    ")\n",
    "bad_coin = ECDSACoin([transfer])"
   ]
  },
  {
   "cell_type": "code",
   "execution_count": 28,
   "metadata": {},
   "outputs": [
    {
     "name": "stdout",
     "output_type": "stream",
     "text": [
      "Bad Signature detected\n"
     ]
    }
   ],
   "source": [
    "from ecdsa import BadSignatureError\n",
    "\n",
    "try:\n",
    "    validate(bad_coin)\n",
    "except BadSignatureError:\n",
    "    print(\"Bad Signature detected\")"
   ]
  },
  {
   "cell_type": "markdown",
   "metadata": {},
   "source": [
    "# Validating Subsequent Transfers"
   ]
  },
  {
   "cell_type": "code",
   "execution_count": 43,
   "metadata": {},
   "outputs": [],
   "source": [
    "def transfer_message(signature, public_key):\n",
    "    return serialize({\n",
    "        \"previous_signature\": signature,\n",
    "        \"next_owner_public_key\": public_key\n",
    "    })\n",
    "\n",
    "def validate(coin):\n",
    "    # Check the first transfer\n",
    "    transfer = coin.transfers[0]\n",
    "    message = serialize(transfer.public_key)\n",
    "    assert bank_public_key.verify(transfer.signature, message)\n",
    "\n",
    "    # Check the rest of coin.transfers\n",
    "    previous_transfer = coin.transfers[0]\n",
    "    for transfer in coin.transfers[1:]:\n",
    "        # Check previous owner signed this transfer using their private key\n",
    "        assert previous_transfer.public_key.verify(\n",
    "            transfer.signature,\n",
    "            transfer_message(previous_transfer.signarure, transfer.public_key)\n",
    "        )\n",
    "        previous_transfer = transfer\n",
    "    return True"
   ]
  },
  {
   "cell_type": "code",
   "execution_count": 40,
   "metadata": {},
   "outputs": [],
   "source": [
    "def get_owner(coin):\n",
    "    database = {\n",
    "        serialize(bob_public_key): \"Bob\",\n",
    "        serialize(alice_public_key): \"Alice\",\n",
    "        serialize(bank_public_key): \"Bank\",\n",
    "    }\n",
    "    public_key = serialize(coin.transfers[-1].public_key)\n",
    "    return database[public_key]"
   ]
  },
  {
   "cell_type": "code",
   "execution_count": 46,
   "metadata": {},
   "outputs": [
    {
     "name": "stdout",
     "output_type": "stream",
     "text": [
      "This coin is owned by Alice\n",
      "This coin is owned by Bob\n",
      "This coin is owned by Bank\n"
     ]
    }
   ],
   "source": [
    "coin = issue(alice_public_key)\n",
    "\n",
    "print(\"This coin is owned by\", get_owner(coin))\n",
    "\n",
    "m1 = transfer_message(coin.transfers[-1].signature, bob_public_key)\n",
    "\n",
    "alice_to_bob = Transfer(\n",
    "    signature=alice_private_key.sign(m1),\n",
    "    public_key=bob_public_key\n",
    ")\n",
    "coin.transfers.append(alice_to_bob)\n",
    "\n",
    "print(\"This coin is owned by\", get_owner(coin))\n",
    "\n",
    "m2 = transfer_message(coin.transfers[-1].signature, bank_public_key)\n",
    "bob_to_bank = Transfer(\n",
    "    signature=bob_private_key.sign(m2),\n",
    "    public_key=bank_public_key,\n",
    ")\n",
    "coin.transfers.append(bob_to_bank)\n",
    "\n",
    "print(\"This coin is owned by\", get_owner(coin))\n"
   ]
  },
  {
   "cell_type": "markdown",
   "metadata": {},
   "source": [
    "# Serialization"
   ]
  },
  {
   "cell_type": "code",
   "execution_count": 47,
   "metadata": {},
   "outputs": [],
   "source": [
    "from utils import to_disk, from_disk"
   ]
  },
  {
   "cell_type": "code",
   "execution_count": 49,
   "metadata": {},
   "outputs": [
    {
     "name": "stdout",
     "output_type": "stream",
     "text": [
      "Does the coinfile exists on disk? False\n"
     ]
    }
   ],
   "source": [
    "import os\n",
    "\n",
    "filename = \"serialized/coin.ecdsacoin\"\n",
    "\n",
    "print(\"Does the coinfile exists on disk?\", os.path.isfile(filename))"
   ]
  },
  {
   "cell_type": "code",
   "execution_count": 50,
   "metadata": {},
   "outputs": [],
   "source": [
    "coin = issue(alice_public_key)\n",
    "\n",
    "to_disk(coin, filename)"
   ]
  },
  {
   "cell_type": "code",
   "execution_count": 51,
   "metadata": {},
   "outputs": [
    {
     "name": "stdout",
     "output_type": "stream",
     "text": [
      "Does the coinfile exists on disk? True\n"
     ]
    }
   ],
   "source": [
    "print(\"Does the coinfile exists on disk?\", os.path.isfile(filename))"
   ]
  },
  {
   "cell_type": "code",
   "execution_count": 52,
   "metadata": {},
   "outputs": [],
   "source": [
    "coin = from_disk(filename)"
   ]
  },
  {
   "cell_type": "markdown",
   "metadata": {},
   "source": [
    "# The Finished Product\n",
    "\n",
    "[ecdsacoin.py](ecdsacoin.py)"
   ]
  },
  {
   "cell_type": "code",
   "execution_count": 1,
   "metadata": {},
   "outputs": [
    {
     "ename": "NameError",
     "evalue": "name 'ecdsacoin' is not defined",
     "output_type": "error",
     "traceback": [
      "\u001b[1;31m---------------------------------------------------------------------------\u001b[0m",
      "\u001b[1;31mNameError\u001b[0m                                 Traceback (most recent call last)",
      "Cell \u001b[1;32mIn[1], line 3\u001b[0m\n\u001b[0;32m      1\u001b[0m \u001b[38;5;28;01mfrom\u001b[39;00m \u001b[38;5;21;01mecdsacoin\u001b[39;00m \u001b[38;5;28;01mimport\u001b[39;00m issue, transfer_message\n\u001b[1;32m----> 3\u001b[0m coin \u001b[38;5;241m=\u001b[39m \u001b[43mecdsacoin\u001b[49m\u001b[38;5;241m.\u001b[39missue(alice_public_key)\n\u001b[0;32m      4\u001b[0m coin\u001b[38;5;241m.\u001b[39mvalidate()\n\u001b[0;32m      6\u001b[0m alice_to_bob \u001b[38;5;241m=\u001b[39m Transfer(\n\u001b[0;32m      7\u001b[0m     signature\u001b[38;5;241m=\u001b[39malice_private_key\u001b[38;5;241m.\u001b[39msign(transfer_message(coin\u001b[38;5;241m.\u001b[39mtransfers[\u001b[38;5;241m-\u001b[39m\u001b[38;5;241m1\u001b[39m]\u001b[38;5;241m.\u001b[39msignature, bob_public_key)),\n\u001b[0;32m      8\u001b[0m     public_key\u001b[38;5;241m=\u001b[39mbob_public_key,\n\u001b[0;32m      9\u001b[0m )\n",
      "\u001b[1;31mNameError\u001b[0m: name 'ecdsacoin' is not defined"
     ]
    }
   ],
   "source": [
    "from ecdsacoin import issue, transfer_message\n",
    "\n",
    "coin = issue(alice_public_key)\n",
    "coin.validate()\n",
    "\n",
    "alice_to_bob = Transfer(\n",
    "    signature=alice_private_key.sign(transfer_message(coin.transfers[-1].signature, bob_public_key)),\n",
    "    public_key=bob_public_key,\n",
    ")\n",
    "\n",
    "coin.transfers.append(alice_to_bob)\n",
    "coin.validate()"
   ]
  }
 ],
 "metadata": {
  "kernelspec": {
   "display_name": "Python 3 (ipykernel)",
   "language": "python",
   "name": "python3"
  },
  "language_info": {
   "codemirror_mode": {
    "name": "ipython",
    "version": 3
   },
   "file_extension": ".py",
   "mimetype": "text/x-python",
   "name": "python",
   "nbconvert_exporter": "python",
   "pygments_lexer": "ipython3",
   "version": "3.11.3"
  }
 },
 "nbformat": 4,
 "nbformat_minor": 4
}
